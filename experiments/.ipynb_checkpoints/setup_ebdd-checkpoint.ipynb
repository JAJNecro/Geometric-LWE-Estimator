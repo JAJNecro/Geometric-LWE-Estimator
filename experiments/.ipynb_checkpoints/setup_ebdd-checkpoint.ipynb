{
 "cells": [
  {
   "cell_type": "code",
   "execution_count": 1,
   "id": "9daec922",
   "metadata": {},
   "outputs": [],
   "source": [
    "load('../framework/LWE.sage')\n",
    "load('../framework/utils.sage')"
   ]
  },
  {
   "cell_type": "code",
   "execution_count": 2,
   "id": "4e59a9e1",
   "metadata": {},
   "outputs": [],
   "source": [
    "n = 70\n",
    "m = n\n",
    "q = 3301\n",
    "sigma = sqrt(20)\n",
    "sigma_c = []\n",
    "mu = concatenate([0] * (m+n), [])\n",
    "d = m + n\n",
    "for i in range(0, n):\n",
    "    sigma_c.append(((sigma / q) ** 2) + (sigma**2 * n -1)/12)\n",
    "Sigma = block_matrix([[diagonal_matrix(sigma_c), zero_matrix(n)],\n",
    "                      [zero_matrix(n),(sigma ** 2) * identity_matrix(n)]])"
   ]
  },
  {
   "cell_type": "code",
   "execution_count": 3,
   "id": "2aaa3930",
   "metadata": {},
   "outputs": [],
   "source": [
    "our_ebdd = EBDD(identity_matrix(d), Sigma, mu, None)\n",
    "D_s = build_Gaussian_law(sigma, 50)\n",
    "D_e = D_s\n",
    "lwe_instance = LWE(d, q, d, D_e, D_s)\n",
    "b, s, A, e_vec = (lwe_instance.b, lwe_instance.s, lwe_instance.A, lwe_instance.e_vec)\n",
    "b = matrix(b).apply_map(recenter)"
   ]
  },
  {
   "cell_type": "code",
   "execution_count": 4,
   "id": "a6187bd6",
   "metadata": {},
   "outputs": [],
   "source": [
    "v = matrix([randint(int(-q/2), int(q/2)) for i in range(n+m)])"
   ]
  },
  {
   "cell_type": "code",
   "execution_count": 5,
   "id": "6b43491c",
   "metadata": {},
   "outputs": [],
   "source": [
    "VS = v * our_ebdd.S"
   ]
  },
  {
   "cell_type": "code",
   "execution_count": 6,
   "id": "f25345e4",
   "metadata": {},
   "outputs": [],
   "source": [
    "mu2 = scal(our_ebdd.mu * v.T)"
   ]
  },
  {
   "cell_type": "code",
   "execution_count": 7,
   "id": "0462aba1",
   "metadata": {},
   "outputs": [],
   "source": [
    "sigma2 = scal(VS * v.T) + sigma**2"
   ]
  },
  {
   "cell_type": "code",
   "execution_count": 11,
   "id": "44e03fbc",
   "metadata": {},
   "outputs": [
    {
     "ename": "TypeError",
     "evalue": "unsupported operand parent(s) for -: 'Full MatrixSpace of 1 by 140 dense matrices over Integer Ring' and 'Integer Ring'",
     "output_type": "error",
     "traceback": [
      "\u001b[0;31m---------------------------------------------------------------------------\u001b[0m",
      "\u001b[0;31mTypeError\u001b[0m                                 Traceback (most recent call last)",
      "Cell \u001b[0;32mIn [11], line 1\u001b[0m\n\u001b[0;32m----> 1\u001b[0m \u001b[38;5;28mprint\u001b[39m(\u001b[43mb\u001b[49m\u001b[43m \u001b[49m\u001b[38;5;241;43m-\u001b[39;49m\u001b[43mInteger\u001b[49m\u001b[43m(\u001b[49m\u001b[38;5;241;43m1\u001b[39;49m\u001b[43m)\u001b[49m \u001b[38;5;241m-\u001b[39m mu2)\n\u001b[1;32m      2\u001b[0m \u001b[38;5;28mprint\u001b[39m(mu2)\n\u001b[1;32m      3\u001b[0m our_ebdd\u001b[38;5;241m.\u001b[39mmu \u001b[38;5;241m+\u001b[39m\u001b[38;5;241m=\u001b[39m (b \u001b[38;5;241m-\u001b[39m mu2)\u001b[38;5;241m/\u001b[39msigma2 \u001b[38;5;241m*\u001b[39m VS\n",
      "File \u001b[0;32m~/gems/sage/sage/src/sage/structure/element.pyx:1351\u001b[0m, in \u001b[0;36msage.structure.element.Element.__sub__\u001b[0;34m()\u001b[0m\n\u001b[1;32m   1349\u001b[0m     return (<Element>left)._sub_(right)\n\u001b[1;32m   1350\u001b[0m if BOTH_ARE_ELEMENT(cl):\n\u001b[0;32m-> 1351\u001b[0m     return coercion_model.bin_op(left, right, sub)\n\u001b[1;32m   1352\u001b[0m \n\u001b[1;32m   1353\u001b[0m try:\n",
      "File \u001b[0;32m~/gems/sage/sage/src/sage/structure/coerce.pyx:1269\u001b[0m, in \u001b[0;36msage.structure.coerce.CoercionModel.bin_op\u001b[0;34m()\u001b[0m\n\u001b[1;32m   1267\u001b[0m     # We should really include the underlying error.\n\u001b[1;32m   1268\u001b[0m     # This causes so much headache.\n\u001b[0;32m-> 1269\u001b[0m     raise bin_op_exception(op, x, y)\n\u001b[1;32m   1270\u001b[0m \n\u001b[1;32m   1271\u001b[0m cpdef canonical_coercion(self, x, y):\n",
      "\u001b[0;31mTypeError\u001b[0m: unsupported operand parent(s) for -: 'Full MatrixSpace of 1 by 140 dense matrices over Integer Ring' and 'Integer Ring'"
     ]
    }
   ],
   "source": [
    "print(b -1 - mu2)\n",
    "print(mu2)\n",
    "our_ebdd.mu += (b - mu2)/sigma2 * VS"
   ]
  },
  {
   "cell_type": "code",
   "execution_count": null,
   "id": "0337a6cb",
   "metadata": {},
   "outputs": [],
   "source": [
    "_ = our_ebdd.integrate_approx_hint(v, 1, sigma**2)"
   ]
  },
  {
   "cell_type": "code",
   "execution_count": null,
   "id": "87456e96",
   "metadata": {},
   "outputs": [],
   "source": []
  }
 ],
 "metadata": {
  "kernelspec": {
   "display_name": "SageMath 10.1",
   "language": "sage",
   "name": "sagemath"
  },
  "language_info": {
   "codemirror_mode": {
    "name": "ipython",
    "version": 3
   },
   "file_extension": ".py",
   "mimetype": "text/x-python",
   "name": "python",
   "nbconvert_exporter": "python",
   "pygments_lexer": "ipython3",
   "version": "3.8.10"
  }
 },
 "nbformat": 4,
 "nbformat_minor": 5
}
