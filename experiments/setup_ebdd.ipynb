{
 "cells": [
  {
   "cell_type": "code",
   "execution_count": 2,
   "id": "9daec922",
   "metadata": {},
   "outputs": [],
   "source": [
    "load('../framework/LWE.sage')\n",
    "load('../framework/utils.sage')"
   ]
  },
  {
   "cell_type": "code",
   "execution_count": 21,
   "id": "4e59a9e1",
   "metadata": {},
   "outputs": [],
   "source": [
    "n = 70\n",
    "m = n\n",
    "q = 3301\n",
    "sigma = sqrt(20)\n",
    "sigma_c = []\n",
    "mu = concatenate([0] * (m+n), [])\n",
    "d = m + n\n",
    "for i in range(0, n):\n",
    "    sigma_c.append(((sigma / q) ** 2) + (sigma**2 * n -1)/12)\n",
    "Sigma = block_matrix([[diagonal_matrix(sigma_c), zero_matrix(n)],\n",
    "                      [zero_matrix(n),(sigma ** 2) * identity_matrix(n)]])"
   ]
  },
  {
   "cell_type": "code",
   "execution_count": 22,
   "id": "2aaa3930",
   "metadata": {},
   "outputs": [],
   "source": [
    "our_ebdd = EBDD(identity_matrix(d), Sigma, mu, None)\n",
    "D_s = build_Gaussian_law(sigma, 50)\n",
    "D_e = D_s\n",
    "lwe_instance = LWE(d, q, d, D_e, D_s)\n",
    "b, s, A, e_vec = (lwe_instance.b, lwe_instance.s, lwe_instance.A, lwe_instance.e_vec)"
   ]
  },
  {
   "cell_type": "code",
   "execution_count": 23,
   "id": "a6187bd6",
   "metadata": {},
   "outputs": [],
   "source": [
    "v = matrix([randint(int(-q/2), int(q/2)) for i in range(n+m)])"
   ]
  },
  {
   "cell_type": "code",
   "execution_count": 31,
   "id": "0337a6cb",
   "metadata": {},
   "outputs": [
    {
     "name": "stdout",
     "output_type": "stream",
     "text": [
      "\u001b[1;37m integrate approx hint \u001b[0m \u001b[0m (conditionning) \u001b[0m \u001b[3;31m \t Unworthy hint, Forced it. \u001b[0m\n",
      "\u001b[1;37m integrate approx hint \u001b[0m \u001b[0m (conditionning) \u001b[0m \u001b[3;31m \t Unworthy hint, Forced it. \u001b[0m\n",
      "\u001b[1;37m integrate approx hint \u001b[0m \u001b[0m (conditionning) \u001b[0m \u001b[3;31m \t Unworthy hint, Forced it. \u001b[0m\n",
      "\u001b[1;37m integrate approx hint \u001b[0m \u001b[0m (conditionning) \u001b[0m \u001b[3;31m \t Unworthy hint, Forced it. \u001b[0m\n",
      "\u001b[1;37m integrate approx hint \u001b[0m \u001b[0m (conditionning) \u001b[0m \u001b[3;31m \t Unworthy hint, Forced it. \u001b[0m\n",
      "\u001b[1;37m integrate approx hint \u001b[0m \u001b[0m (conditionning) \u001b[0m \u001b[3;31m \t Unworthy hint, Forced it. \u001b[0m\n",
      "\u001b[1;37m integrate approx hint \u001b[0m \u001b[0m (conditionning) \u001b[0m \u001b[3;31m \t Unworthy hint, Forced it. \u001b[0m\n",
      "\u001b[1;37m integrate approx hint \u001b[0m \u001b[0m (conditionning) \u001b[0m \u001b[3;31m \t Unworthy hint, Forced it. \u001b[0m\n",
      "\u001b[1;37m integrate approx hint \u001b[0m \u001b[0m (conditionning) \u001b[0m \u001b[3;31m \t Unworthy hint, Forced it. \u001b[0m\n",
      "\u001b[1;37m integrate approx hint \u001b[0m \u001b[0m (conditionning) \u001b[0m \u001b[3;31m \t Unworthy hint, Forced it. \u001b[0m\n",
      "\u001b[1;37m integrate approx hint \u001b[0m \u001b[0m (conditionning) \u001b[0m \u001b[3;31m \t Unworthy hint, Forced it. \u001b[0m\n",
      "\u001b[1;37m integrate approx hint \u001b[0m \u001b[0m (conditionning) \u001b[0m \u001b[3;31m \t Unworthy hint, Forced it. \u001b[0m\n",
      "\u001b[1;37m integrate approx hint \u001b[0m \u001b[0m (conditionning) \u001b[0m \u001b[3;31m \t Unworthy hint, Forced it. \u001b[0m\n",
      "\u001b[1;37m integrate approx hint \u001b[0m \u001b[0m (conditionning) \u001b[0m \u001b[3;31m \t Unworthy hint, Forced it. \u001b[0m\n",
      "\u001b[1;37m integrate approx hint \u001b[0m \u001b[0m (conditionning) \u001b[0m \u001b[3;31m \t Unworthy hint, Forced it. \u001b[0m\n",
      "\u001b[1;37m integrate approx hint \u001b[0m \u001b[0m (conditionning) \u001b[0m \u001b[3;31m \t Unworthy hint, Forced it. \u001b[0m\n",
      "\u001b[1;37m integrate approx hint \u001b[0m \u001b[0m (conditionning) \u001b[0m \u001b[3;31m \t Unworthy hint, Forced it. \u001b[0m\n",
      "\u001b[1;37m integrate approx hint \u001b[0m \u001b[0m (conditionning) \u001b[0m \u001b[3;31m \t Unworthy hint, Forced it. \u001b[0m\n",
      "\u001b[1;37m integrate approx hint \u001b[0m \u001b[0m (conditionning) \u001b[0m \u001b[3;31m \t Unworthy hint, Forced it. \u001b[0m\n",
      "\u001b[1;37m integrate approx hint \u001b[0m \u001b[0m (conditionning) \u001b[0m \u001b[3;31m \t Unworthy hint, Forced it. \u001b[0m\n",
      "\u001b[1;37m integrate approx hint \u001b[0m \u001b[0m (conditionning) \u001b[0m \u001b[3;31m \t Unworthy hint, Forced it. \u001b[0m\n",
      "\u001b[1;37m integrate approx hint \u001b[0m \u001b[0m (conditionning) \u001b[0m \u001b[3;31m \t Unworthy hint, Forced it. \u001b[0m\n",
      "\u001b[1;37m integrate approx hint \u001b[0m \u001b[0m (conditionning) \u001b[0m \u001b[3;31m \t Unworthy hint, Forced it. \u001b[0m\n",
      "\u001b[1;37m integrate approx hint \u001b[0m \u001b[0m (conditionning) \u001b[0m \u001b[3;31m \t Unworthy hint, Forced it. \u001b[0m\n",
      "\u001b[1;37m integrate approx hint \u001b[0m \u001b[0m (conditionning) \u001b[0m \u001b[3;31m \t Unworthy hint, Forced it. \u001b[0m\n",
      "\u001b[1;37m integrate approx hint \u001b[0m \u001b[0m (conditionning) \u001b[0m \u001b[3;31m \t Unworthy hint, Forced it. \u001b[0m\n",
      "\u001b[1;37m integrate approx hint \u001b[0m \u001b[0m (conditionning) \u001b[0m \u001b[3;31m \t Unworthy hint, Forced it. \u001b[0m\n",
      "\u001b[1;37m integrate approx hint \u001b[0m \u001b[0m (conditionning) \u001b[0m \u001b[3;31m \t Unworthy hint, Forced it. \u001b[0m\n",
      "\u001b[1;37m integrate approx hint \u001b[0m \u001b[0m (conditionning) \u001b[0m \u001b[3;31m \t Unworthy hint, Forced it. \u001b[0m\n",
      "\u001b[1;37m integrate approx hint \u001b[0m \u001b[0m (conditionning) \u001b[0m \u001b[3;31m \t Unworthy hint, Forced it. \u001b[0m\n",
      "\u001b[1;37m integrate approx hint \u001b[0m \u001b[0m (conditionning) \u001b[0m \u001b[3;31m \t Unworthy hint, Forced it. \u001b[0m\n",
      "\u001b[1;37m integrate approx hint \u001b[0m \u001b[0m (conditionning) \u001b[0m \u001b[3;31m \t Unworthy hint, Forced it. \u001b[0m\n",
      "\u001b[1;37m integrate approx hint \u001b[0m \u001b[0m (conditionning) \u001b[0m \u001b[3;31m \t Unworthy hint, Forced it. \u001b[0m\n",
      "\u001b[1;37m integrate approx hint \u001b[0m \u001b[0m (conditionning) \u001b[0m \u001b[3;31m \t Unworthy hint, Forced it. \u001b[0m\n",
      "\u001b[1;37m integrate approx hint \u001b[0m \u001b[0m (conditionning) \u001b[0m \u001b[3;31m \t Unworthy hint, Forced it. \u001b[0m\n",
      "\u001b[1;37m integrate approx hint \u001b[0m \u001b[0m (conditionning) \u001b[0m \u001b[3;31m \t Unworthy hint, Forced it. \u001b[0m\n",
      "\u001b[1;37m integrate approx hint \u001b[0m \u001b[0m (conditionning) \u001b[0m \u001b[3;31m \t Unworthy hint, Forced it. \u001b[0m\n",
      "\u001b[1;37m integrate approx hint \u001b[0m \u001b[0m (conditionning) \u001b[0m \u001b[3;31m \t Unworthy hint, Forced it. \u001b[0m\n",
      "\u001b[1;37m integrate approx hint \u001b[0m \u001b[0m (conditionning) \u001b[0m \u001b[3;31m \t Unworthy hint, Forced it. \u001b[0m\n",
      "\u001b[1;37m integrate approx hint \u001b[0m \u001b[0m (conditionning) \u001b[0m \u001b[3;31m \t Unworthy hint, Forced it. \u001b[0m\n",
      "\u001b[1;37m integrate approx hint \u001b[0m \u001b[0m (conditionning) \u001b[0m \u001b[3;31m \t Unworthy hint, Forced it. \u001b[0m\n",
      "\u001b[1;37m integrate approx hint \u001b[0m \u001b[0m (conditionning) \u001b[0m \u001b[3;31m \t Unworthy hint, Forced it. \u001b[0m\n",
      "\u001b[1;37m integrate approx hint \u001b[0m \u001b[0m (conditionning) \u001b[0m \u001b[3;31m \t Unworthy hint, Forced it. \u001b[0m\n",
      "\u001b[1;37m integrate approx hint \u001b[0m \u001b[0m (conditionning) \u001b[0m \u001b[3;31m \t Unworthy hint, Forced it. \u001b[0m\n",
      "\u001b[1;37m integrate approx hint \u001b[0m \u001b[0m (conditionning) \u001b[0m \u001b[3;31m \t Unworthy hint, Forced it. \u001b[0m\n",
      "\u001b[1;37m integrate approx hint \u001b[0m \u001b[0m (conditionning) \u001b[0m \u001b[3;31m \t Unworthy hint, Forced it. \u001b[0m\n",
      "\u001b[1;37m integrate approx hint \u001b[0m \u001b[0m (conditionning) \u001b[0m \u001b[3;31m \t Unworthy hint, Forced it. \u001b[0m\n",
      "\u001b[1;37m integrate approx hint \u001b[0m \u001b[0m (conditionning) \u001b[0m \u001b[3;31m \t Unworthy hint, Forced it. \u001b[0m\n",
      "\u001b[1;37m integrate approx hint \u001b[0m \u001b[0m (conditionning) \u001b[0m \u001b[3;31m \t Unworthy hint, Forced it. \u001b[0m\n",
      "\u001b[1;37m integrate approx hint \u001b[0m \u001b[0m (conditionning) \u001b[0m \u001b[3;31m \t Unworthy hint, Forced it. \u001b[0m\n",
      "\u001b[1;37m integrate approx hint \u001b[0m \u001b[0m (conditionning) \u001b[0m \u001b[3;31m \t Unworthy hint, Forced it. \u001b[0m\n",
      "\u001b[1;37m integrate approx hint \u001b[0m \u001b[0m (conditionning) \u001b[0m \u001b[3;31m \t Unworthy hint, Forced it. \u001b[0m\n",
      "\u001b[1;37m integrate approx hint \u001b[0m \u001b[0m (conditionning) \u001b[0m \u001b[3;31m \t Unworthy hint, Forced it. \u001b[0m\n",
      "\u001b[1;37m integrate approx hint \u001b[0m \u001b[0m (conditionning) \u001b[0m \u001b[3;31m \t Unworthy hint, Forced it. \u001b[0m\n",
      "\u001b[1;37m integrate approx hint \u001b[0m \u001b[0m (conditionning) \u001b[0m \u001b[3;31m \t Unworthy hint, Forced it. \u001b[0m\n",
      "\u001b[1;37m integrate approx hint \u001b[0m \u001b[0m (conditionning) \u001b[0m \u001b[3;31m \t Unworthy hint, Forced it. \u001b[0m\n",
      "\u001b[1;37m integrate approx hint \u001b[0m \u001b[0m (conditionning) \u001b[0m \u001b[3;31m \t Unworthy hint, Forced it. \u001b[0m\n",
      "\u001b[1;37m integrate approx hint \u001b[0m \u001b[0m (conditionning) \u001b[0m \u001b[3;31m \t Unworthy hint, Forced it. \u001b[0m\n",
      "\u001b[1;37m integrate approx hint \u001b[0m \u001b[0m (conditionning) \u001b[0m \u001b[3;31m \t Unworthy hint, Forced it. \u001b[0m\n",
      "\u001b[1;37m integrate approx hint \u001b[0m \u001b[0m (conditionning) \u001b[0m \u001b[3;31m \t Unworthy hint, Forced it. \u001b[0m\n",
      "\u001b[1;37m integrate approx hint \u001b[0m \u001b[0m (conditionning) \u001b[0m \u001b[3;31m \t Unworthy hint, Forced it. \u001b[0m\n",
      "\u001b[1;37m integrate approx hint \u001b[0m \u001b[0m (conditionning) \u001b[0m \u001b[3;31m \t Unworthy hint, Forced it. \u001b[0m\n",
      "\u001b[1;37m integrate approx hint \u001b[0m \u001b[0m (conditionning) \u001b[0m \u001b[3;31m \t Unworthy hint, Forced it. \u001b[0m\n",
      "\u001b[1;37m integrate approx hint \u001b[0m \u001b[0m (conditionning) \u001b[0m \u001b[3;31m \t Unworthy hint, Forced it. \u001b[0m\n",
      "\u001b[1;37m integrate approx hint \u001b[0m \u001b[0m (conditionning) \u001b[0m \u001b[3;31m \t Unworthy hint, Forced it. \u001b[0m\n",
      "\u001b[1;37m integrate approx hint \u001b[0m \u001b[0m (conditionning) \u001b[0m \u001b[3;31m \t Unworthy hint, Forced it. \u001b[0m\n",
      "\u001b[1;37m integrate approx hint \u001b[0m \u001b[0m (conditionning) \u001b[0m \u001b[3;31m \t Unworthy hint, Forced it. \u001b[0m\n",
      "\u001b[1;37m integrate approx hint \u001b[0m \u001b[0m (conditionning) \u001b[0m \u001b[3;31m \t Unworthy hint, Forced it. \u001b[0m\n",
      "\u001b[1;37m integrate approx hint \u001b[0m \u001b[0m (conditionning) \u001b[0m \u001b[3;31m \t Unworthy hint, Forced it. \u001b[0m\n",
      "\u001b[1;37m integrate approx hint \u001b[0m \u001b[0m (conditionning) \u001b[0m \u001b[3;31m \t Unworthy hint, Forced it. \u001b[0m\n"
     ]
    }
   ],
   "source": [
    "for i in range(n):\n",
    "    _ = our_ebdd.integrate_approx_hint(v, b[0][i], sigma**2)"
   ]
  },
  {
   "cell_type": "code",
   "execution_count": null,
   "id": "87456e96",
   "metadata": {},
   "outputs": [],
   "source": []
  }
 ],
 "metadata": {
  "kernelspec": {
   "display_name": "SageMath 10.1",
   "language": "sage",
   "name": "sagemath"
  },
  "language_info": {
   "codemirror_mode": {
    "name": "ipython",
    "version": 3
   },
   "file_extension": ".py",
   "mimetype": "text/x-python",
   "name": "python",
   "nbconvert_exporter": "python",
   "pygments_lexer": "ipython3",
   "version": "3.8.10"
  }
 },
 "nbformat": 4,
 "nbformat_minor": 5
}
